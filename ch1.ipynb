{
 "cells": [
  {
   "cell_type": "code",
   "execution_count": 2,
   "metadata": {},
   "outputs": [
    {
     "name": "stdout",
     "output_type": "stream",
     "text": [
      "hello world\n"
     ]
    }
   ],
   "source": [
    "print('hello world')\n",
    "import math"
   ]
  },
  {
   "cell_type": "code",
   "execution_count": 12,
   "metadata": {},
   "outputs": [
    {
     "name": "stdout",
     "output_type": "stream",
     "text": [
      "11.70469991071964\n"
     ]
    }
   ],
   "source": [
    "# square root by Newton's Method\n",
    "epsilon = 1e-7\n",
    "def is_square_root(root_square, number):\n",
    "    return number >= 0 and abs(root_square ** 2 - number) <= epsilon\n",
    "\n",
    "def newton_method(number, guess):\n",
    "    if is_square_root(guess, number):\n",
    "        return guess\n",
    "    else:\n",
    "        return newton_method(number, ((guess + number / guess) / 2))\n",
    "\n",
    "print(newton_method(137, 0.1))\n"
   ]
  },
  {
   "cell_type": "code",
   "execution_count": null,
   "metadata": {},
   "outputs": [],
   "source": []
  }
 ],
 "metadata": {
  "kernelspec": {
   "display_name": "Python 3",
   "language": "python",
   "name": "python3"
  },
  "language_info": {
   "codemirror_mode": {
    "name": "ipython",
    "version": 3
   },
   "file_extension": ".py",
   "mimetype": "text/x-python",
   "name": "python",
   "nbconvert_exporter": "python",
   "pygments_lexer": "ipython3",
   "version": "3.9.1"
  }
 },
 "nbformat": 4,
 "nbformat_minor": 4
}
